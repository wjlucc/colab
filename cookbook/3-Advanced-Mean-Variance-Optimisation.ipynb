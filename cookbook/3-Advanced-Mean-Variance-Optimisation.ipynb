{
  "cells": [
    {
      "cell_type": "markdown",
      "metadata": {
        "id": "view-in-github",
        "colab_type": "text"
      },
      "source": [
        "<a href=\"https://colab.research.google.com/github/wjlucc/colab/blob/main/cookbook/3-Advanced-Mean-Variance-Optimisation.ipynb\" target=\"_parent\"><img src=\"https://colab.research.google.com/assets/colab-badge.svg\" alt=\"Open In Colab\"/></a>"
      ]
    },
    {
      "cell_type": "markdown",
      "metadata": {
        "id": "pQhw2JJu_YO0"
      },
      "source": [
        "# Advanced MVO - custom objectives\n",
        "\n",
        "PyPortfolioOpt has implemented some of the most common objective functions (e.g `min_volatility`, `max_sharpe`, `max_quadratic_utility`, `efficient_risk`, `efficient_return`). However, sometimes yoy may have an idea for a different objective function.\n",
        "\n",
        "In this cookbook recipe, we cover:\n",
        "\n",
        "- Mininimising transaction costs\n",
        "- Custom convex objectives\n",
        "- Custom nonconvex objectives\n",
        "\n",
        "## Acquiring data\n",
        "\n",
        "As discussed in the previous notebook, assets are an exogenous input (i.e you must come up with a list of tickers). We will use `yfinance` to download data for thesee tickers\n",
        "\n",
        "[![Open In Colab](https://colab.research.google.com/assets/colab-badge.svg)](https://colab.research.google.com/github/robertmartin8/PyPortfolioOpt/blob/master/cookbook/3-Advanced-Mean-Variance-Optimisation.ipynb)\n",
        "    \n",
        "[![Kaggle](https://kaggle.com/static/images/open-in-kaggle.svg)](https://kaggle.com/kernels/welcome?src=https://github.com/robertmartin8/PyPortfolioOpt/blob/master/cookbook/3-Advanced-Mean-Variance-Optimisation.ipynb)\n",
        "    \n",
        "[![Gradient](https://assets.paperspace.io/img/gradient-badge.svg)](https://console.paperspace.com/github/robertmartin8/PyPortfolioOpt/blob/master/cookbook/3-Advanced-Mean-Variance-Optimisation.ipynb)\n",
        "    \n",
        "[![Open In SageMaker Studio Lab](https://studiolab.sagemaker.aws/studiolab.svg)](https://studiolab.sagemaker.aws/import/github/robertmartin8/PyPortfolioOpt/blob/master/cookbook/3-Advanced-Mean-Variance-Optimisation.ipynb)"
      ]
    },
    {
      "cell_type": "code",
      "execution_count": 1,
      "metadata": {
        "colab": {
          "base_uri": "https://localhost:8080/"
        },
        "id": "kWJJAvG4_iEz",
        "outputId": "7e21d95d-1d29-4cee-dcaf-a5fa1b4ae918"
      },
      "outputs": [
        {
          "output_type": "stream",
          "name": "stdout",
          "text": [
            "Requirement already satisfied: pandas in /usr/local/lib/python3.12/dist-packages (2.2.2)\n",
            "Requirement already satisfied: numpy in /usr/local/lib/python3.12/dist-packages (2.0.2)\n",
            "Requirement already satisfied: matplotlib in /usr/local/lib/python3.12/dist-packages (3.10.0)\n",
            "Requirement already satisfied: yfinance in /usr/local/lib/python3.12/dist-packages (0.2.65)\n",
            "Collecting PyPortfolioOpt\n",
            "  Downloading pyportfolioopt-1.5.6-py3-none-any.whl.metadata (22 kB)\n",
            "Requirement already satisfied: python-dateutil>=2.8.2 in /usr/local/lib/python3.12/dist-packages (from pandas) (2.9.0.post0)\n",
            "Requirement already satisfied: pytz>=2020.1 in /usr/local/lib/python3.12/dist-packages (from pandas) (2025.2)\n",
            "Requirement already satisfied: tzdata>=2022.7 in /usr/local/lib/python3.12/dist-packages (from pandas) (2025.2)\n",
            "Requirement already satisfied: contourpy>=1.0.1 in /usr/local/lib/python3.12/dist-packages (from matplotlib) (1.3.3)\n",
            "Requirement already satisfied: cycler>=0.10 in /usr/local/lib/python3.12/dist-packages (from matplotlib) (0.12.1)\n",
            "Requirement already satisfied: fonttools>=4.22.0 in /usr/local/lib/python3.12/dist-packages (from matplotlib) (4.59.2)\n",
            "Requirement already satisfied: kiwisolver>=1.3.1 in /usr/local/lib/python3.12/dist-packages (from matplotlib) (1.4.9)\n",
            "Requirement already satisfied: packaging>=20.0 in /usr/local/lib/python3.12/dist-packages (from matplotlib) (25.0)\n",
            "Requirement already satisfied: pillow>=8 in /usr/local/lib/python3.12/dist-packages (from matplotlib) (11.3.0)\n",
            "Requirement already satisfied: pyparsing>=2.3.1 in /usr/local/lib/python3.12/dist-packages (from matplotlib) (3.2.3)\n",
            "Requirement already satisfied: requests>=2.31 in /usr/local/lib/python3.12/dist-packages (from yfinance) (2.32.4)\n",
            "Requirement already satisfied: multitasking>=0.0.7 in /usr/local/lib/python3.12/dist-packages (from yfinance) (0.0.12)\n",
            "Requirement already satisfied: platformdirs>=2.0.0 in /usr/local/lib/python3.12/dist-packages (from yfinance) (4.4.0)\n",
            "Requirement already satisfied: frozendict>=2.3.4 in /usr/local/lib/python3.12/dist-packages (from yfinance) (2.4.6)\n",
            "Requirement already satisfied: peewee>=3.16.2 in /usr/local/lib/python3.12/dist-packages (from yfinance) (3.18.2)\n",
            "Requirement already satisfied: beautifulsoup4>=4.11.1 in /usr/local/lib/python3.12/dist-packages (from yfinance) (4.13.5)\n",
            "Requirement already satisfied: curl_cffi>=0.7 in /usr/local/lib/python3.12/dist-packages (from yfinance) (0.13.0)\n",
            "Requirement already satisfied: protobuf>=3.19.0 in /usr/local/lib/python3.12/dist-packages (from yfinance) (5.29.5)\n",
            "Requirement already satisfied: websockets>=13.0 in /usr/local/lib/python3.12/dist-packages (from yfinance) (15.0.1)\n",
            "Requirement already satisfied: cvxpy>=1.1.19 in /usr/local/lib/python3.12/dist-packages (from PyPortfolioOpt) (1.6.7)\n",
            "Collecting ecos<3.0.0,>=2.0.14 (from PyPortfolioOpt)\n",
            "  Downloading ecos-2.0.14-cp312-cp312-manylinux_2_17_x86_64.manylinux2014_x86_64.whl.metadata (8.0 kB)\n",
            "Requirement already satisfied: plotly<6.0.0,>=5.0.0 in /usr/local/lib/python3.12/dist-packages (from PyPortfolioOpt) (5.24.1)\n",
            "Requirement already satisfied: scipy>=1.3 in /usr/local/lib/python3.12/dist-packages (from PyPortfolioOpt) (1.16.1)\n",
            "Requirement already satisfied: soupsieve>1.2 in /usr/local/lib/python3.12/dist-packages (from beautifulsoup4>=4.11.1->yfinance) (2.8)\n",
            "Requirement already satisfied: typing-extensions>=4.0.0 in /usr/local/lib/python3.12/dist-packages (from beautifulsoup4>=4.11.1->yfinance) (4.15.0)\n",
            "Requirement already satisfied: cffi>=1.12.0 in /usr/local/lib/python3.12/dist-packages (from curl_cffi>=0.7->yfinance) (1.17.1)\n",
            "Requirement already satisfied: certifi>=2024.2.2 in /usr/local/lib/python3.12/dist-packages (from curl_cffi>=0.7->yfinance) (2025.8.3)\n",
            "Requirement already satisfied: osqp>=0.6.2 in /usr/local/lib/python3.12/dist-packages (from cvxpy>=1.1.19->PyPortfolioOpt) (1.0.4)\n",
            "Requirement already satisfied: clarabel>=0.5.0 in /usr/local/lib/python3.12/dist-packages (from cvxpy>=1.1.19->PyPortfolioOpt) (0.11.1)\n",
            "Requirement already satisfied: scs>=3.2.4.post1 in /usr/local/lib/python3.12/dist-packages (from cvxpy>=1.1.19->PyPortfolioOpt) (3.2.8)\n",
            "Requirement already satisfied: tenacity>=6.2.0 in /usr/local/lib/python3.12/dist-packages (from plotly<6.0.0,>=5.0.0->PyPortfolioOpt) (8.5.0)\n",
            "Requirement already satisfied: six>=1.5 in /usr/local/lib/python3.12/dist-packages (from python-dateutil>=2.8.2->pandas) (1.17.0)\n",
            "Requirement already satisfied: charset_normalizer<4,>=2 in /usr/local/lib/python3.12/dist-packages (from requests>=2.31->yfinance) (3.4.3)\n",
            "Requirement already satisfied: idna<4,>=2.5 in /usr/local/lib/python3.12/dist-packages (from requests>=2.31->yfinance) (3.10)\n",
            "Requirement already satisfied: urllib3<3,>=1.21.1 in /usr/local/lib/python3.12/dist-packages (from requests>=2.31->yfinance) (2.5.0)\n",
            "Requirement already satisfied: pycparser in /usr/local/lib/python3.12/dist-packages (from cffi>=1.12.0->curl_cffi>=0.7->yfinance) (2.22)\n",
            "Requirement already satisfied: jinja2 in /usr/local/lib/python3.12/dist-packages (from osqp>=0.6.2->cvxpy>=1.1.19->PyPortfolioOpt) (3.1.6)\n",
            "Requirement already satisfied: setuptools in /usr/local/lib/python3.12/dist-packages (from osqp>=0.6.2->cvxpy>=1.1.19->PyPortfolioOpt) (75.2.0)\n",
            "Requirement already satisfied: joblib in /usr/local/lib/python3.12/dist-packages (from osqp>=0.6.2->cvxpy>=1.1.19->PyPortfolioOpt) (1.5.2)\n",
            "Requirement already satisfied: MarkupSafe>=2.0 in /usr/local/lib/python3.12/dist-packages (from jinja2->osqp>=0.6.2->cvxpy>=1.1.19->PyPortfolioOpt) (3.0.2)\n",
            "Downloading pyportfolioopt-1.5.6-py3-none-any.whl (62 kB)\n",
            "\u001b[2K   \u001b[90m━━━━━━━━━━━━━━━━━━━━━━━━━━━━━━━━━━━━━━━━\u001b[0m \u001b[32m62.7/62.7 kB\u001b[0m \u001b[31m779.5 kB/s\u001b[0m eta \u001b[36m0:00:00\u001b[0m\n",
            "\u001b[?25hDownloading ecos-2.0.14-cp312-cp312-manylinux_2_17_x86_64.manylinux2014_x86_64.whl (222 kB)\n",
            "\u001b[2K   \u001b[90m━━━━━━━━━━━━━━━━━━━━━━━━━━━━━━━━━━━━━━━━\u001b[0m \u001b[32m222.1/222.1 kB\u001b[0m \u001b[31m3.3 MB/s\u001b[0m eta \u001b[36m0:00:00\u001b[0m\n",
            "\u001b[?25hInstalling collected packages: ecos, PyPortfolioOpt\n",
            "Successfully installed PyPortfolioOpt-1.5.6 ecos-2.0.14\n"
          ]
        }
      ],
      "source": [
        "!pip install pandas numpy matplotlib yfinance PyPortfolioOpt\n",
        "import os\n",
        "if not os.path.isdir('data'):\n",
        "    os.system('git clone https://github.com/robertmartin8/PyPortfolioOpt.git')\n",
        "    os.chdir('PyPortfolioOpt/cookbook')"
      ]
    },
    {
      "cell_type": "code",
      "execution_count": 2,
      "metadata": {
        "id": "yd0GLGye_YO1"
      },
      "outputs": [],
      "source": [
        "import yfinance as yf\n",
        "import pandas as pd\n",
        "import numpy as np\n",
        "import matplotlib.pyplot as plt"
      ]
    },
    {
      "cell_type": "code",
      "execution_count": 3,
      "metadata": {
        "id": "HRko0Vbr_YO2"
      },
      "outputs": [],
      "source": [
        "tickers = [\"BLK\", \"BAC\", \"AAPL\", \"TM\", \"WMT\",\n",
        "           \"JD\", \"INTU\", \"MA\", \"UL\", \"CVS\",\n",
        "           \"DIS\", \"AMD\", \"NVDA\", \"PBI\", \"TGT\"]"
      ]
    },
    {
      "cell_type": "code",
      "execution_count": 4,
      "metadata": {
        "colab": {
          "base_uri": "https://localhost:8080/"
        },
        "id": "b8QidoAw_YO2",
        "outputId": "9bffd460-bd4a-4a4c-fb30-86565c82d00c"
      },
      "outputs": [
        {
          "output_type": "stream",
          "name": "stderr",
          "text": [
            "/tmp/ipython-input-1100400463.py:1: FutureWarning: YF.download() has changed argument auto_adjust default to True\n",
            "  ohlc = yf.download(tickers, period=\"max\")\n",
            "[*********************100%***********************]  15 of 15 completed\n"
          ]
        }
      ],
      "source": [
        "ohlc = yf.download(tickers, period=\"max\")"
      ]
    },
    {
      "cell_type": "code",
      "execution_count": 5,
      "metadata": {
        "colab": {
          "base_uri": "https://localhost:8080/",
          "height": 344
        },
        "id": "41-UTlPR_YO3",
        "outputId": "62efad94-9792-40d2-ab25-867c080aaa26"
      },
      "outputs": [
        {
          "output_type": "execute_result",
          "data": {
            "text/plain": [
              "Ticker            AAPL         AMD        BAC          BLK        CVS  \\\n",
              "Date                                                                    \n",
              "2025-09-08  237.880005  151.410004  49.459999  1104.920044  70.260002   \n",
              "2025-09-09  234.350006  155.820007  50.290001  1105.670044  71.750000   \n",
              "2025-09-10  226.789993  159.539993  50.130001  1102.890015  73.970001   \n",
              "2025-09-11  230.029999  155.669998  50.750000  1134.180054  74.669998   \n",
              "2025-09-12  234.070007  158.570007  50.580002  1123.410034  74.980003   \n",
              "\n",
              "Ticker             DIS        INTU         JD          MA        NVDA    PBI  \\\n",
              "Date                                                                           \n",
              "2025-09-08  118.839996  671.679993  32.849998  586.599976  168.300507  12.68   \n",
              "2025-09-09  117.370003  670.890015  33.869999  584.000000  170.750366  11.74   \n",
              "2025-09-10  115.790001  656.260010  33.320000  579.380005  177.320007  11.37   \n",
              "2025-09-11  117.080002  660.520020  34.400002  588.729980  177.169998  11.43   \n",
              "2025-09-12  115.959999  646.030029  33.669998  580.409973  177.820007  11.41   \n",
              "\n",
              "Ticker            TGT          TM         UL         WMT  \n",
              "Date                                                      \n",
              "2025-09-08  91.500000  202.789993  64.000000  102.279999  \n",
              "2025-09-09  90.910004  200.800003  63.080002  102.290001  \n",
              "2025-09-10  90.779999  197.380005  62.779999  100.410004  \n",
              "2025-09-11  91.519997  197.630005  63.490002  102.650002  \n",
              "2025-09-12  89.959999  196.130005  62.889999  103.489998  "
            ],
            "text/html": [
              "\n",
              "  <div id=\"df-66181b07-09b0-4556-966b-00b3831212b7\" class=\"colab-df-container\">\n",
              "    <div>\n",
              "<style scoped>\n",
              "    .dataframe tbody tr th:only-of-type {\n",
              "        vertical-align: middle;\n",
              "    }\n",
              "\n",
              "    .dataframe tbody tr th {\n",
              "        vertical-align: top;\n",
              "    }\n",
              "\n",
              "    .dataframe thead th {\n",
              "        text-align: right;\n",
              "    }\n",
              "</style>\n",
              "<table border=\"1\" class=\"dataframe\">\n",
              "  <thead>\n",
              "    <tr style=\"text-align: right;\">\n",
              "      <th>Ticker</th>\n",
              "      <th>AAPL</th>\n",
              "      <th>AMD</th>\n",
              "      <th>BAC</th>\n",
              "      <th>BLK</th>\n",
              "      <th>CVS</th>\n",
              "      <th>DIS</th>\n",
              "      <th>INTU</th>\n",
              "      <th>JD</th>\n",
              "      <th>MA</th>\n",
              "      <th>NVDA</th>\n",
              "      <th>PBI</th>\n",
              "      <th>TGT</th>\n",
              "      <th>TM</th>\n",
              "      <th>UL</th>\n",
              "      <th>WMT</th>\n",
              "    </tr>\n",
              "    <tr>\n",
              "      <th>Date</th>\n",
              "      <th></th>\n",
              "      <th></th>\n",
              "      <th></th>\n",
              "      <th></th>\n",
              "      <th></th>\n",
              "      <th></th>\n",
              "      <th></th>\n",
              "      <th></th>\n",
              "      <th></th>\n",
              "      <th></th>\n",
              "      <th></th>\n",
              "      <th></th>\n",
              "      <th></th>\n",
              "      <th></th>\n",
              "      <th></th>\n",
              "    </tr>\n",
              "  </thead>\n",
              "  <tbody>\n",
              "    <tr>\n",
              "      <th>2025-09-08</th>\n",
              "      <td>237.880005</td>\n",
              "      <td>151.410004</td>\n",
              "      <td>49.459999</td>\n",
              "      <td>1104.920044</td>\n",
              "      <td>70.260002</td>\n",
              "      <td>118.839996</td>\n",
              "      <td>671.679993</td>\n",
              "      <td>32.849998</td>\n",
              "      <td>586.599976</td>\n",
              "      <td>168.300507</td>\n",
              "      <td>12.68</td>\n",
              "      <td>91.500000</td>\n",
              "      <td>202.789993</td>\n",
              "      <td>64.000000</td>\n",
              "      <td>102.279999</td>\n",
              "    </tr>\n",
              "    <tr>\n",
              "      <th>2025-09-09</th>\n",
              "      <td>234.350006</td>\n",
              "      <td>155.820007</td>\n",
              "      <td>50.290001</td>\n",
              "      <td>1105.670044</td>\n",
              "      <td>71.750000</td>\n",
              "      <td>117.370003</td>\n",
              "      <td>670.890015</td>\n",
              "      <td>33.869999</td>\n",
              "      <td>584.000000</td>\n",
              "      <td>170.750366</td>\n",
              "      <td>11.74</td>\n",
              "      <td>90.910004</td>\n",
              "      <td>200.800003</td>\n",
              "      <td>63.080002</td>\n",
              "      <td>102.290001</td>\n",
              "    </tr>\n",
              "    <tr>\n",
              "      <th>2025-09-10</th>\n",
              "      <td>226.789993</td>\n",
              "      <td>159.539993</td>\n",
              "      <td>50.130001</td>\n",
              "      <td>1102.890015</td>\n",
              "      <td>73.970001</td>\n",
              "      <td>115.790001</td>\n",
              "      <td>656.260010</td>\n",
              "      <td>33.320000</td>\n",
              "      <td>579.380005</td>\n",
              "      <td>177.320007</td>\n",
              "      <td>11.37</td>\n",
              "      <td>90.779999</td>\n",
              "      <td>197.380005</td>\n",
              "      <td>62.779999</td>\n",
              "      <td>100.410004</td>\n",
              "    </tr>\n",
              "    <tr>\n",
              "      <th>2025-09-11</th>\n",
              "      <td>230.029999</td>\n",
              "      <td>155.669998</td>\n",
              "      <td>50.750000</td>\n",
              "      <td>1134.180054</td>\n",
              "      <td>74.669998</td>\n",
              "      <td>117.080002</td>\n",
              "      <td>660.520020</td>\n",
              "      <td>34.400002</td>\n",
              "      <td>588.729980</td>\n",
              "      <td>177.169998</td>\n",
              "      <td>11.43</td>\n",
              "      <td>91.519997</td>\n",
              "      <td>197.630005</td>\n",
              "      <td>63.490002</td>\n",
              "      <td>102.650002</td>\n",
              "    </tr>\n",
              "    <tr>\n",
              "      <th>2025-09-12</th>\n",
              "      <td>234.070007</td>\n",
              "      <td>158.570007</td>\n",
              "      <td>50.580002</td>\n",
              "      <td>1123.410034</td>\n",
              "      <td>74.980003</td>\n",
              "      <td>115.959999</td>\n",
              "      <td>646.030029</td>\n",
              "      <td>33.669998</td>\n",
              "      <td>580.409973</td>\n",
              "      <td>177.820007</td>\n",
              "      <td>11.41</td>\n",
              "      <td>89.959999</td>\n",
              "      <td>196.130005</td>\n",
              "      <td>62.889999</td>\n",
              "      <td>103.489998</td>\n",
              "    </tr>\n",
              "  </tbody>\n",
              "</table>\n",
              "</div>\n",
              "    <div class=\"colab-df-buttons\">\n",
              "\n",
              "  <div class=\"colab-df-container\">\n",
              "    <button class=\"colab-df-convert\" onclick=\"convertToInteractive('df-66181b07-09b0-4556-966b-00b3831212b7')\"\n",
              "            title=\"Convert this dataframe to an interactive table.\"\n",
              "            style=\"display:none;\">\n",
              "\n",
              "  <svg xmlns=\"http://www.w3.org/2000/svg\" height=\"24px\" viewBox=\"0 -960 960 960\">\n",
              "    <path d=\"M120-120v-720h720v720H120Zm60-500h600v-160H180v160Zm220 220h160v-160H400v160Zm0 220h160v-160H400v160ZM180-400h160v-160H180v160Zm440 0h160v-160H620v160ZM180-180h160v-160H180v160Zm440 0h160v-160H620v160Z\"/>\n",
              "  </svg>\n",
              "    </button>\n",
              "\n",
              "  <style>\n",
              "    .colab-df-container {\n",
              "      display:flex;\n",
              "      gap: 12px;\n",
              "    }\n",
              "\n",
              "    .colab-df-convert {\n",
              "      background-color: #E8F0FE;\n",
              "      border: none;\n",
              "      border-radius: 50%;\n",
              "      cursor: pointer;\n",
              "      display: none;\n",
              "      fill: #1967D2;\n",
              "      height: 32px;\n",
              "      padding: 0 0 0 0;\n",
              "      width: 32px;\n",
              "    }\n",
              "\n",
              "    .colab-df-convert:hover {\n",
              "      background-color: #E2EBFA;\n",
              "      box-shadow: 0px 1px 2px rgba(60, 64, 67, 0.3), 0px 1px 3px 1px rgba(60, 64, 67, 0.15);\n",
              "      fill: #174EA6;\n",
              "    }\n",
              "\n",
              "    .colab-df-buttons div {\n",
              "      margin-bottom: 4px;\n",
              "    }\n",
              "\n",
              "    [theme=dark] .colab-df-convert {\n",
              "      background-color: #3B4455;\n",
              "      fill: #D2E3FC;\n",
              "    }\n",
              "\n",
              "    [theme=dark] .colab-df-convert:hover {\n",
              "      background-color: #434B5C;\n",
              "      box-shadow: 0px 1px 3px 1px rgba(0, 0, 0, 0.15);\n",
              "      filter: drop-shadow(0px 1px 2px rgba(0, 0, 0, 0.3));\n",
              "      fill: #FFFFFF;\n",
              "    }\n",
              "  </style>\n",
              "\n",
              "    <script>\n",
              "      const buttonEl =\n",
              "        document.querySelector('#df-66181b07-09b0-4556-966b-00b3831212b7 button.colab-df-convert');\n",
              "      buttonEl.style.display =\n",
              "        google.colab.kernel.accessAllowed ? 'block' : 'none';\n",
              "\n",
              "      async function convertToInteractive(key) {\n",
              "        const element = document.querySelector('#df-66181b07-09b0-4556-966b-00b3831212b7');\n",
              "        const dataTable =\n",
              "          await google.colab.kernel.invokeFunction('convertToInteractive',\n",
              "                                                    [key], {});\n",
              "        if (!dataTable) return;\n",
              "\n",
              "        const docLinkHtml = 'Like what you see? Visit the ' +\n",
              "          '<a target=\"_blank\" href=https://colab.research.google.com/notebooks/data_table.ipynb>data table notebook</a>'\n",
              "          + ' to learn more about interactive tables.';\n",
              "        element.innerHTML = '';\n",
              "        dataTable['output_type'] = 'display_data';\n",
              "        await google.colab.output.renderOutput(dataTable, element);\n",
              "        const docLink = document.createElement('div');\n",
              "        docLink.innerHTML = docLinkHtml;\n",
              "        element.appendChild(docLink);\n",
              "      }\n",
              "    </script>\n",
              "  </div>\n",
              "\n",
              "\n",
              "    <div id=\"df-5b9ae8a8-ffe8-4345-a481-b73470ef3eaf\">\n",
              "      <button class=\"colab-df-quickchart\" onclick=\"quickchart('df-5b9ae8a8-ffe8-4345-a481-b73470ef3eaf')\"\n",
              "                title=\"Suggest charts\"\n",
              "                style=\"display:none;\">\n",
              "\n",
              "<svg xmlns=\"http://www.w3.org/2000/svg\" height=\"24px\"viewBox=\"0 0 24 24\"\n",
              "     width=\"24px\">\n",
              "    <g>\n",
              "        <path d=\"M19 3H5c-1.1 0-2 .9-2 2v14c0 1.1.9 2 2 2h14c1.1 0 2-.9 2-2V5c0-1.1-.9-2-2-2zM9 17H7v-7h2v7zm4 0h-2V7h2v10zm4 0h-2v-4h2v4z\"/>\n",
              "    </g>\n",
              "</svg>\n",
              "      </button>\n",
              "\n",
              "<style>\n",
              "  .colab-df-quickchart {\n",
              "      --bg-color: #E8F0FE;\n",
              "      --fill-color: #1967D2;\n",
              "      --hover-bg-color: #E2EBFA;\n",
              "      --hover-fill-color: #174EA6;\n",
              "      --disabled-fill-color: #AAA;\n",
              "      --disabled-bg-color: #DDD;\n",
              "  }\n",
              "\n",
              "  [theme=dark] .colab-df-quickchart {\n",
              "      --bg-color: #3B4455;\n",
              "      --fill-color: #D2E3FC;\n",
              "      --hover-bg-color: #434B5C;\n",
              "      --hover-fill-color: #FFFFFF;\n",
              "      --disabled-bg-color: #3B4455;\n",
              "      --disabled-fill-color: #666;\n",
              "  }\n",
              "\n",
              "  .colab-df-quickchart {\n",
              "    background-color: var(--bg-color);\n",
              "    border: none;\n",
              "    border-radius: 50%;\n",
              "    cursor: pointer;\n",
              "    display: none;\n",
              "    fill: var(--fill-color);\n",
              "    height: 32px;\n",
              "    padding: 0;\n",
              "    width: 32px;\n",
              "  }\n",
              "\n",
              "  .colab-df-quickchart:hover {\n",
              "    background-color: var(--hover-bg-color);\n",
              "    box-shadow: 0 1px 2px rgba(60, 64, 67, 0.3), 0 1px 3px 1px rgba(60, 64, 67, 0.15);\n",
              "    fill: var(--button-hover-fill-color);\n",
              "  }\n",
              "\n",
              "  .colab-df-quickchart-complete:disabled,\n",
              "  .colab-df-quickchart-complete:disabled:hover {\n",
              "    background-color: var(--disabled-bg-color);\n",
              "    fill: var(--disabled-fill-color);\n",
              "    box-shadow: none;\n",
              "  }\n",
              "\n",
              "  .colab-df-spinner {\n",
              "    border: 2px solid var(--fill-color);\n",
              "    border-color: transparent;\n",
              "    border-bottom-color: var(--fill-color);\n",
              "    animation:\n",
              "      spin 1s steps(1) infinite;\n",
              "  }\n",
              "\n",
              "  @keyframes spin {\n",
              "    0% {\n",
              "      border-color: transparent;\n",
              "      border-bottom-color: var(--fill-color);\n",
              "      border-left-color: var(--fill-color);\n",
              "    }\n",
              "    20% {\n",
              "      border-color: transparent;\n",
              "      border-left-color: var(--fill-color);\n",
              "      border-top-color: var(--fill-color);\n",
              "    }\n",
              "    30% {\n",
              "      border-color: transparent;\n",
              "      border-left-color: var(--fill-color);\n",
              "      border-top-color: var(--fill-color);\n",
              "      border-right-color: var(--fill-color);\n",
              "    }\n",
              "    40% {\n",
              "      border-color: transparent;\n",
              "      border-right-color: var(--fill-color);\n",
              "      border-top-color: var(--fill-color);\n",
              "    }\n",
              "    60% {\n",
              "      border-color: transparent;\n",
              "      border-right-color: var(--fill-color);\n",
              "    }\n",
              "    80% {\n",
              "      border-color: transparent;\n",
              "      border-right-color: var(--fill-color);\n",
              "      border-bottom-color: var(--fill-color);\n",
              "    }\n",
              "    90% {\n",
              "      border-color: transparent;\n",
              "      border-bottom-color: var(--fill-color);\n",
              "    }\n",
              "  }\n",
              "</style>\n",
              "\n",
              "      <script>\n",
              "        async function quickchart(key) {\n",
              "          const quickchartButtonEl =\n",
              "            document.querySelector('#' + key + ' button');\n",
              "          quickchartButtonEl.disabled = true;  // To prevent multiple clicks.\n",
              "          quickchartButtonEl.classList.add('colab-df-spinner');\n",
              "          try {\n",
              "            const charts = await google.colab.kernel.invokeFunction(\n",
              "                'suggestCharts', [key], {});\n",
              "          } catch (error) {\n",
              "            console.error('Error during call to suggestCharts:', error);\n",
              "          }\n",
              "          quickchartButtonEl.classList.remove('colab-df-spinner');\n",
              "          quickchartButtonEl.classList.add('colab-df-quickchart-complete');\n",
              "        }\n",
              "        (() => {\n",
              "          let quickchartButtonEl =\n",
              "            document.querySelector('#df-5b9ae8a8-ffe8-4345-a481-b73470ef3eaf button');\n",
              "          quickchartButtonEl.style.display =\n",
              "            google.colab.kernel.accessAllowed ? 'block' : 'none';\n",
              "        })();\n",
              "      </script>\n",
              "    </div>\n",
              "\n",
              "    </div>\n",
              "  </div>\n"
            ],
            "application/vnd.google.colaboratory.intrinsic+json": {
              "type": "dataframe",
              "summary": "{\n  \"name\": \"prices\",\n  \"rows\": 5,\n  \"fields\": [\n    {\n      \"column\": \"Date\",\n      \"properties\": {\n        \"dtype\": \"date\",\n        \"min\": \"2025-09-08 00:00:00\",\n        \"max\": \"2025-09-12 00:00:00\",\n        \"num_unique_values\": 5,\n        \"samples\": [\n          \"2025-09-09 00:00:00\",\n          \"2025-09-12 00:00:00\",\n          \"2025-09-10 00:00:00\"\n        ],\n        \"semantic_type\": \"\",\n        \"description\": \"\"\n      }\n    },\n    {\n      \"column\": \"AAPL\",\n      \"properties\": {\n        \"dtype\": \"number\",\n        \"std\": 4.2854433332402,\n        \"min\": 226.7899932861328,\n        \"max\": 237.8800048828125,\n        \"num_unique_values\": 5,\n        \"samples\": [\n          234.35000610351562,\n          234.07000732421875,\n          226.7899932861328\n        ],\n        \"semantic_type\": \"\",\n        \"description\": \"\"\n      }\n    },\n    {\n      \"column\": \"AMD\",\n      \"properties\": {\n        \"dtype\": \"number\",\n        \"std\": 3.1678790665347187,\n        \"min\": 151.41000366210938,\n        \"max\": 159.5399932861328,\n        \"num_unique_values\": 5,\n        \"samples\": [\n          155.82000732421875,\n          158.57000732421875,\n          159.5399932861328\n        ],\n        \"semantic_type\": \"\",\n        \"description\": \"\"\n      }\n    },\n    {\n      \"column\": \"BAC\",\n      \"properties\": {\n        \"dtype\": \"number\",\n        \"std\": 0.49967052102236226,\n        \"min\": 49.459999084472656,\n        \"max\": 50.75,\n        \"num_unique_values\": 5,\n        \"samples\": [\n          50.290000915527344,\n          50.58000183105469,\n          50.130001068115234\n        ],\n        \"semantic_type\": \"\",\n        \"description\": \"\"\n      }\n    },\n    {\n      \"column\": \"BLK\",\n      \"properties\": {\n        \"dtype\": \"number\",\n        \"std\": 13.88182079076863,\n        \"min\": 1102.8900146484375,\n        \"max\": 1134.1800537109375,\n        \"num_unique_values\": 5,\n        \"samples\": [\n          1105.6700439453125,\n          1123.4100341796875,\n          1102.8900146484375\n        ],\n        \"semantic_type\": \"\",\n        \"description\": \"\"\n      }\n    },\n    {\n      \"column\": \"CVS\",\n      \"properties\": {\n        \"dtype\": \"number\",\n        \"std\": 2.0396639802245997,\n        \"min\": 70.26000213623047,\n        \"max\": 74.9800033569336,\n        \"num_unique_values\": 5,\n        \"samples\": [\n          71.75,\n          74.9800033569336,\n          73.97000122070312\n        ],\n        \"semantic_type\": \"\",\n        \"description\": \"\"\n      }\n    },\n    {\n      \"column\": \"DIS\",\n      \"properties\": {\n        \"dtype\": \"number\",\n        \"std\": 1.2323015583629515,\n        \"min\": 115.79000091552734,\n        \"max\": 118.83999633789062,\n        \"num_unique_values\": 5,\n        \"samples\": [\n          117.37000274658203,\n          115.95999908447266,\n          115.79000091552734\n        ],\n        \"semantic_type\": \"\",\n        \"description\": \"\"\n      }\n    },\n    {\n      \"column\": \"INTU\",\n      \"properties\": {\n        \"dtype\": \"number\",\n        \"std\": 10.7079836431214,\n        \"min\": 646.030029296875,\n        \"max\": 671.6799926757812,\n        \"num_unique_values\": 5,\n        \"samples\": [\n          670.8900146484375,\n          646.030029296875,\n          656.260009765625\n        ],\n        \"semantic_type\": \"\",\n        \"description\": \"\"\n      }\n    },\n    {\n      \"column\": \"JD\",\n      \"properties\": {\n        \"dtype\": \"number\",\n        \"std\": 0.5822980785198344,\n        \"min\": 32.849998474121094,\n        \"max\": 34.400001525878906,\n        \"num_unique_values\": 5,\n        \"samples\": [\n          33.869998931884766,\n          33.66999816894531,\n          33.31999969482422\n        ],\n        \"semantic_type\": \"\",\n        \"description\": \"\"\n      }\n    },\n    {\n      \"column\": \"MA\",\n      \"properties\": {\n        \"dtype\": \"number\",\n        \"std\": 3.9752463063330006,\n        \"min\": 579.3800048828125,\n        \"max\": 588.72998046875,\n        \"num_unique_values\": 5,\n        \"samples\": [\n          584.0,\n          580.4099731445312,\n          579.3800048828125\n        ],\n        \"semantic_type\": \"\",\n        \"description\": \"\"\n      }\n    },\n    {\n      \"column\": \"NVDA\",\n      \"properties\": {\n        \"dtype\": \"number\",\n        \"std\": 4.42543037229225,\n        \"min\": 168.30050659179688,\n        \"max\": 177.82000732421875,\n        \"num_unique_values\": 5,\n        \"samples\": [\n          170.7503662109375,\n          177.82000732421875,\n          177.32000732421875\n        ],\n        \"semantic_type\": \"\",\n        \"description\": \"\"\n      }\n    },\n    {\n      \"column\": \"PBI\",\n      \"properties\": {\n        \"dtype\": \"number\",\n        \"std\": 0.553290288438264,\n        \"min\": 11.369999885559082,\n        \"max\": 12.680000305175781,\n        \"num_unique_values\": 5,\n        \"samples\": [\n          11.739999771118164,\n          11.40999984741211,\n          11.369999885559082\n        ],\n        \"semantic_type\": \"\",\n        \"description\": \"\"\n      }\n    },\n    {\n      \"column\": \"TGT\",\n      \"properties\": {\n        \"dtype\": \"number\",\n        \"std\": 0.6396714096594329,\n        \"min\": 89.95999908447266,\n        \"max\": 91.5199966430664,\n        \"num_unique_values\": 5,\n        \"samples\": [\n          90.91000366210938,\n          89.95999908447266,\n          90.77999877929688\n        ],\n        \"semantic_type\": \"\",\n        \"description\": \"\"\n      }\n    },\n    {\n      \"column\": \"TM\",\n      \"properties\": {\n        \"dtype\": \"number\",\n        \"std\": 2.7535261055271274,\n        \"min\": 196.1300048828125,\n        \"max\": 202.7899932861328,\n        \"num_unique_values\": 5,\n        \"samples\": [\n          200.8000030517578,\n          196.1300048828125,\n          197.3800048828125\n        ],\n        \"semantic_type\": \"\",\n        \"description\": \"\"\n      }\n    },\n    {\n      \"column\": \"UL\",\n      \"properties\": {\n        \"dtype\": \"number\",\n        \"std\": 0.4998704273961573,\n        \"min\": 62.779998779296875,\n        \"max\": 64.0,\n        \"num_unique_values\": 5,\n        \"samples\": [\n          63.08000183105469,\n          62.88999938964844,\n          62.779998779296875\n        ],\n        \"semantic_type\": \"\",\n        \"description\": \"\"\n      }\n    },\n    {\n      \"column\": \"WMT\",\n      \"properties\": {\n        \"dtype\": \"number\",\n        \"std\": 1.127198140205666,\n        \"min\": 100.41000366210938,\n        \"max\": 103.48999786376953,\n        \"num_unique_values\": 5,\n        \"samples\": [\n          102.29000091552734,\n          103.48999786376953,\n          100.41000366210938\n        ],\n        \"semantic_type\": \"\",\n        \"description\": \"\"\n      }\n    }\n  ]\n}"
            }
          },
          "metadata": {},
          "execution_count": 5
        }
      ],
      "source": [
        "prices = ohlc[\"Close\"]\n",
        "prices.tail()"
      ]
    },
    {
      "cell_type": "markdown",
      "metadata": {
        "id": "8fZeMKRg_YO4"
      },
      "source": [
        "## Expected returns and risk models\n",
        "\n",
        "In this notebook, we will use James-Stein shrinkage and semicovariance (which only penalises downside risk)."
      ]
    },
    {
      "cell_type": "code",
      "execution_count": 6,
      "metadata": {
        "colab": {
          "base_uri": "https://localhost:8080/",
          "height": 35
        },
        "id": "5_0F7H7k_YO4",
        "outputId": "7573b9d6-23e2-41cc-c2f4-b9a99dcd8ed5"
      },
      "outputs": [
        {
          "output_type": "execute_result",
          "data": {
            "text/plain": [
              "'1.5.6'"
            ],
            "application/vnd.google.colaboratory.intrinsic+json": {
              "type": "string"
            }
          },
          "metadata": {},
          "execution_count": 6
        }
      ],
      "source": [
        "import pypfopt\n",
        "pypfopt.__version__"
      ]
    },
    {
      "cell_type": "code",
      "execution_count": 8,
      "metadata": {
        "id": "U6m_oOBG_YO4"
      },
      "outputs": [],
      "source": [
        "from pypfopt import risk_models, expected_returns\n",
        "from pypfopt import plotting\n",
        "\n",
        "mu = expected_returns.capm_return(prices)\n",
        "S = risk_models.semicovariance(prices)"
      ]
    },
    {
      "cell_type": "code",
      "execution_count": 9,
      "metadata": {
        "colab": {
          "base_uri": "https://localhost:8080/",
          "height": 445
        },
        "id": "V-3Q-NM__YO5",
        "outputId": "cdbad6c0-b28c-40fa-9633-2763d2e6b7eb"
      },
      "outputs": [
        {
          "output_type": "display_data",
          "data": {
            "text/plain": [
              "<Figure size 1000x500 with 1 Axes>"
            ],
            "image/png": "[encoded data removed]"
          },
          "metadata": {}
        }
      ],
      "source": [
        "mu.plot.barh(figsize=(10,5));"
      ]
    },
    {
      "cell_type": "code",
      "execution_count": 10,
      "metadata": {
        "colab": {
          "base_uri": "https://localhost:8080/",
          "height": 487
        },
        "id": "pgEDbNJ7_YO5",
        "outputId": "58ab13ce-1195-4145-8fb1-a8d417c35ab6"
      },
      "outputs": [
        {
          "output_type": "display_data",
          "data": {
            "text/plain": [
              "<Figure size 640x480 with 2 Axes>"
            ],
            "image/png": "[encoded data removed]"
          },
          "metadata": {}
        }
      ],
      "source": [
        "plotting.plot_covariance(S, plot_correlation=True);"
      ]
    },
    {
      "cell_type": "markdown",
      "metadata": {
        "id": "8V6jyzsw_YO5"
      },
      "source": [
        "## Min volatility with a transaction cost objective\n",
        "\n",
        "Let's say that you already have a portfolio, and want to now optimize it. It could be quite expensive to completely reallocate, so you may want to take into account transaction costs. PyPortfolioOpt provides a simple objective to account for this.\n",
        "\n",
        "Note: this objective will not play nicely with `max_sharpe`."
      ]
    },
    {
      "cell_type": "code",
      "execution_count": 11,
      "metadata": {
        "id": "70ib0FwA_YO5"
      },
      "outputs": [],
      "source": [
        "# Pretend that you started with a default-weight allocation\n",
        "initial_weights = np.array([1/len(tickers)] * len(tickers))"
      ]
    },
    {
      "cell_type": "code",
      "source": [
        "from pypfopt import EfficientFrontier, objective_functions\n",
        "\n",
        "ef = EfficientFrontier(mu, S)\n",
        "ef.min_volatility()\n",
        "weights = ef.clean_weights()\n",
        "ef.portfolio_performance(verbose=True);"
      ],
      "metadata": {
        "colab": {
          "base_uri": "https://localhost:8080/"
        },
        "id": "64E-XQb-oiHw",
        "outputId": "365aa840-a7e5-4b9b-b614-c173a2b6645b"
      },
      "execution_count": 13,
      "outputs": [
        {
          "output_type": "stream",
          "name": "stdout",
          "text": [
            "Expected annual return: 16.5%\n",
            "Annual volatility: 9.0%\n",
            "Sharpe Ratio: 1.84\n"
          ]
        }
      ]
    },
    {
      "cell_type": "code",
      "execution_count": 14,
      "metadata": {
        "colab": {
          "base_uri": "https://localhost:8080/"
        },
        "id": "h4DCRaLe_YO6",
        "outputId": "e396778d-5893-4a7b-8cee-296d234962b7"
      },
      "outputs": [
        {
          "output_type": "stream",
          "name": "stdout",
          "text": [
            "Expected annual return: 18.1%\n",
            "Annual volatility: 11.1%\n",
            "Sharpe Ratio: 1.63\n"
          ]
        }
      ],
      "source": [
        "from pypfopt import EfficientFrontier, objective_functions\n",
        "\n",
        "ef = EfficientFrontier(mu, S)\n",
        "\n",
        "# 1% broker commission\n",
        "ef.add_objective(objective_functions.transaction_cost, w_prev=initial_weights, k=0.01)\n",
        "ef.min_volatility()\n",
        "weights = ef.clean_weights()\n",
        "weights\n",
        "ef.portfolio_performance(verbose=True);"
      ]
    },
    {
      "cell_type": "markdown",
      "metadata": {
        "id": "iTTvy6xH_YO6"
      },
      "source": [
        "Notice that many of the weights are 0.06667, i.e your original equal weight. In fact, the only change has been an allocation of AMD's weight to JD. If we lower the cost `k`, the allocation will change more:"
      ]
    },
    {
      "cell_type": "code",
      "execution_count": null,
      "metadata": {
        "colab": {
          "base_uri": "https://localhost:8080/"
        },
        "id": "pTepg1-Q_YO6",
        "outputId": "335af198-0d41-482c-a923-617240ee5ffd"
      },
      "outputs": [
        {
          "data": {
            "text/plain": [
              "OrderedDict([('AAPL', 0.0),\n",
              "             ('AMD', 0.0),\n",
              "             ('BAC', 0.0),\n",
              "             ('BLK', 0.06667),\n",
              "             ('CVS', 0.0538),\n",
              "             ('DIS', 0.0),\n",
              "             ('INTU', 0.00851),\n",
              "             ('JD', 0.298),\n",
              "             ('MA', 0.27222),\n",
              "             ('NVDA', 0.0),\n",
              "             ('PBI', 0.0),\n",
              "             ('TGT', 0.0),\n",
              "             ('TM', 0.06667),\n",
              "             ('UL', 0.14875),\n",
              "             ('WMT', 0.08539)])"
            ]
          },
          "execution_count": 12,
          "metadata": {},
          "output_type": "execute_result"
        }
      ],
      "source": [
        "ef = EfficientFrontier(mu, S)\n",
        "ef.add_objective(objective_functions.transaction_cost, w_prev=initial_weights, k=0.001)\n",
        "ef.min_volatility()\n",
        "weights = ef.clean_weights()\n",
        "weights"
      ]
    },
    {
      "cell_type": "markdown",
      "metadata": {
        "id": "YM-gPp1S_YO7"
      },
      "source": [
        "The optimizer seems to really like JD. The reason for this is that it is highly anticorrelated to other assets (notice the dark column in the covariance plot). Hence, historically, it adds a lot of diversification. But it is dangerous to place too much emphasis on what happened in the past, so we may want to limit the asset weights.\n",
        "\n",
        "In addition, we notice that 4 stocks have now been allocated zero weight, which may be undesirable. Both of these problems can be fixed by adding an [L2 regularisation objective](https://pyportfolioopt.readthedocs.io/en/latest/EfficientFrontier.html#more-on-l2-regularisation)."
      ]
    },
    {
      "cell_type": "code",
      "execution_count": null,
      "metadata": {
        "colab": {
          "base_uri": "https://localhost:8080/"
        },
        "id": "Mh22zJrI_YO7",
        "outputId": "f6b4707d-c5cb-4c81-d676-7f1cc9c412e5"
      },
      "outputs": [
        {
          "data": {
            "text/plain": [
              "OrderedDict([('AAPL', 0.0623),\n",
              "             ('AMD', 0.05356),\n",
              "             ('BAC', 0.06263),\n",
              "             ('BLK', 0.07041),\n",
              "             ('CVS', 0.06715),\n",
              "             ('DIS', 0.06528),\n",
              "             ('INTU', 0.06667),\n",
              "             ('JD', 0.07589),\n",
              "             ('MA', 0.07336),\n",
              "             ('NVDA', 0.06317),\n",
              "             ('PBI', 0.0644),\n",
              "             ('TGT', 0.06588),\n",
              "             ('TM', 0.06934),\n",
              "             ('UL', 0.07131),\n",
              "             ('WMT', 0.06866)])"
            ]
          },
          "execution_count": 13,
          "metadata": {},
          "output_type": "execute_result"
        }
      ],
      "source": [
        "ef = EfficientFrontier(mu, S)\n",
        "ef.add_objective(objective_functions.transaction_cost, w_prev=initial_weights, k=0.001)\n",
        "ef.add_objective(objective_functions.L2_reg)\n",
        "ef.min_volatility()\n",
        "weights = ef.clean_weights()\n",
        "weights"
      ]
    },
    {
      "cell_type": "markdown",
      "metadata": {
        "id": "zQrFckqY_YO7"
      },
      "source": [
        "This has had too much of an evening-out effect. After all, if the resulting allocation is going to be so close to equal weights, we may as well stick with our initial allocation. We can reduce the strength of the L2 regularisation by reducing `gamma`:"
      ]
    },
    {
      "cell_type": "code",
      "execution_count": null,
      "metadata": {
        "colab": {
          "base_uri": "https://localhost:8080/"
        },
        "id": "VdeeHz8J_YO7",
        "outputId": "735a86d3-078e-4a28-cb2e-19da01de4542"
      },
      "outputs": [
        {
          "data": {
            "text/plain": [
              "OrderedDict([('AAPL', 0.02309),\n",
              "             ('AMD', 0.0),\n",
              "             ('BAC', 0.01226),\n",
              "             ('BLK', 0.099),\n",
              "             ('CVS', 0.06667),\n",
              "             ('DIS', 0.04427),\n",
              "             ('INTU', 0.05892),\n",
              "             ('JD', 0.16678),\n",
              "             ('MA', 0.14089),\n",
              "             ('NVDA', 0.02294),\n",
              "             ('PBI', 0.03273),\n",
              "             ('TGT', 0.04921),\n",
              "             ('TM', 0.08801),\n",
              "             ('UL', 0.11292),\n",
              "             ('WMT', 0.08232)])"
            ]
          },
          "execution_count": 14,
          "metadata": {},
          "output_type": "execute_result"
        }
      ],
      "source": [
        "ef = EfficientFrontier(mu, S)\n",
        "ef.add_objective(objective_functions.transaction_cost, w_prev=initial_weights, k=0.001)\n",
        "ef.add_objective(objective_functions.L2_reg, gamma=0.05)  # default is 1\n",
        "ef.min_volatility()\n",
        "weights = ef.clean_weights()\n",
        "weights"
      ]
    },
    {
      "cell_type": "code",
      "execution_count": null,
      "metadata": {
        "colab": {
          "base_uri": "https://localhost:8080/"
        },
        "id": "EFN7ul8-_YO8",
        "outputId": "575da3e2-c1ed-4821-dbec-8475d1f0c3b7"
      },
      "outputs": [
        {
          "name": "stdout",
          "output_type": "stream",
          "text": [
            "Expected annual return: 17.0%\n",
            "Annual volatility: 10.1%\n",
            "Sharpe Ratio: 1.69\n"
          ]
        }
      ],
      "source": [
        "ef.portfolio_performance(verbose=True);"
      ]
    },
    {
      "cell_type": "markdown",
      "metadata": {
        "id": "ra5fBWi8_YO8"
      },
      "source": [
        "This portfolio is now reasonably balanced, but also puts significantly more weight on JD."
      ]
    },
    {
      "cell_type": "code",
      "execution_count": null,
      "metadata": {
        "colab": {
          "base_uri": "https://localhost:8080/",
          "height": 575
        },
        "id": "3Klc-L_8_YO8",
        "outputId": "9bc2e6e6-9411-4be4-a851-918a648b5306"
      },
      "outputs": [
        {
          "data": {
            "image/png": "[encoded data removed]",
            "text/plain": [
              "<Figure size 1000x1000 with 1 Axes>"
            ]
          },
          "metadata": {},
          "output_type": "display_data"
        }
      ],
      "source": [
        "pd.Series(weights).plot.pie(figsize=(10,10));"
      ]
    },
    {
      "cell_type": "markdown",
      "metadata": {
        "id": "A4s-3rWa_YO9"
      },
      "source": [
        "## Custom convex objectives\n",
        "\n",
        "PyPortfolioOpt comes with the following built-in objective functions, as of v1.2.1:\n",
        "\n",
        "- Portfolio variance (i.e square of volatility)\n",
        "- Portfolio return\n",
        "- Sharpe ratio\n",
        "- L2 regularisation (minimising this reduces nonzero weights)\n",
        "- Quadratic utility\n",
        "- Transaction cost model (a simple one)\n",
        "\n",
        "However, you may want have a different objective. If this new objective is **convex**, you can optimize a portfolio with the full benefit of PyPortfolioOpt's modular syntax, for example adding other constraints and objectives.\n",
        "\n",
        "To demonstrate this, we will minimise the **logarithmic-barrier** function suggested in the paper 60 Years of Portfolio Optimization, by Kolm et al (2014):\n",
        "\n",
        "$$f(w, S, k) = w^T S w - k \\sum_{i=1}^N \\ln w$$\n",
        "\n",
        "We must first convert this mathematical objective into the language of cvxpy. Cvxpy is a powerful modelling language for convex optimization problems. It is clean and easy to use, the only caveat is that objectives must be expressed with `cvxpy` functions, a list of which can be found [here](https://www.cvxpy.org/tutorial/functions/index.html)."
      ]
    },
    {
      "cell_type": "code",
      "execution_count": 15,
      "metadata": {
        "id": "5WjglE6d_YO9"
      },
      "outputs": [],
      "source": [
        "import cvxpy as cp\n",
        "\n",
        "# Note: functions are minimised. If you want to maximise an objective, stick a minus sign in it.\n",
        "def logarithmic_barrier_objective(w, cov_matrix, k=0.1):\n",
        "    log_sum = cp.sum(cp.log(w))\n",
        "    var = cp.quad_form(w, cov_matrix)\n",
        "    return var - k * log_sum"
      ]
    },
    {
      "cell_type": "markdown",
      "metadata": {
        "id": "UxmNQahn_YO9"
      },
      "source": [
        "Once we have written the objective function, we can just use the `ef.convex_objective()` to minimise the objective."
      ]
    },
    {
      "cell_type": "code",
      "execution_count": 17,
      "metadata": {
        "colab": {
          "base_uri": "https://localhost:8080/"
        },
        "id": "SMsaFWHB_YO9",
        "outputId": "7c9ab56d-861e-47c0-97ae-12f9b2d1001f"
      },
      "outputs": [
        {
          "output_type": "execute_result",
          "data": {
            "text/plain": [
              "OrderedDict([('AAPL', 0.03948),\n",
              "             ('AMD', 0.02564),\n",
              "             ('BAC', 0.03868),\n",
              "             ('BLK', 0.07872),\n",
              "             ('CVS', 0.05942),\n",
              "             ('DIS', 0.047),\n",
              "             ('INTU', 0.05203),\n",
              "             ('JD', 0.16806),\n",
              "             ('MA', 0.12251),\n",
              "             ('NVDA', 0.03962),\n",
              "             ('PBI', 0.0432),\n",
              "             ('TGT', 0.04881),\n",
              "             ('TM', 0.07263),\n",
              "             ('UL', 0.09386),\n",
              "             ('WMT', 0.07034)])"
            ]
          },
          "metadata": {},
          "execution_count": 17
        }
      ],
      "source": [
        "ef = EfficientFrontier(mu, S, weight_bounds=(0.01, 0.2))\n",
        "ef.convex_objective(logarithmic_barrier_objective, cov_matrix=S, k=0.001)\n",
        "weights = ef.clean_weights()\n",
        "weights"
      ]
    },
    {
      "cell_type": "code",
      "execution_count": 18,
      "metadata": {
        "colab": {
          "base_uri": "https://localhost:8080/"
        },
        "id": "TGkjjU3z_YO-",
        "outputId": "768f7134-0f27-4a2b-d221-16d18cad93ab"
      },
      "outputs": [
        {
          "output_type": "stream",
          "name": "stdout",
          "text": [
            "Expected annual return: 17.9%\n",
            "Annual volatility: 10.8%\n",
            "Sharpe Ratio: 1.66\n"
          ]
        }
      ],
      "source": [
        "ef.portfolio_performance(verbose=True);"
      ]
    },
    {
      "cell_type": "markdown",
      "metadata": {
        "id": "mOAd1ncH_YO-"
      },
      "source": [
        "This is compatible with all the constraints discussed in the previous recipe. Let's say that we want to limit JD's weight to 15%."
      ]
    },
    {
      "cell_type": "code",
      "execution_count": 19,
      "metadata": {
        "colab": {
          "base_uri": "https://localhost:8080/"
        },
        "id": "J3rM2vkz_YO-",
        "outputId": "25b23301-bcd5-44f2-e52c-f86cf6a56c1f"
      },
      "outputs": [
        {
          "output_type": "execute_result",
          "data": {
            "text/plain": [
              "OrderedDict([('AAPL', 0.03981),\n",
              "             ('AMD', 0.02574),\n",
              "             ('BAC', 0.03889),\n",
              "             ('BLK', 0.0808),\n",
              "             ('CVS', 0.06038),\n",
              "             ('DIS', 0.04753),\n",
              "             ('INTU', 0.05283),\n",
              "             ('JD', 0.15),\n",
              "             ('MA', 0.12831),\n",
              "             ('NVDA', 0.0401),\n",
              "             ('PBI', 0.04376),\n",
              "             ('TGT', 0.04939),\n",
              "             ('TM', 0.07423),\n",
              "             ('UL', 0.09657),\n",
              "             ('WMT', 0.07167)])"
            ]
          },
          "metadata": {},
          "execution_count": 19
        }
      ],
      "source": [
        "ef = EfficientFrontier(mu, S, weight_bounds=(0.01, 0.2))\n",
        "jd_index = ef.tickers.index(\"JD\")  # get the index of JD\n",
        "ef.add_constraint(lambda w: w[jd_index] <= 0.15)\n",
        "ef.convex_objective(logarithmic_barrier_objective, cov_matrix=S, k=0.001)\n",
        "weights = ef.clean_weights()\n",
        "weights"
      ]
    },
    {
      "cell_type": "code",
      "source": [
        "ef.portfolio_performance(verbose=True);"
      ],
      "metadata": {
        "colab": {
          "base_uri": "https://localhost:8080/"
        },
        "id": "JmRzqj1bpyAa",
        "outputId": "56dc4cc3-237b-46d4-cbd4-d0f4dcda9504"
      },
      "execution_count": 20,
      "outputs": [
        {
          "output_type": "stream",
          "name": "stdout",
          "text": [
            "Expected annual return: 17.8%\n",
            "Annual volatility: 10.9%\n",
            "Sharpe Ratio: 1.64\n"
          ]
        }
      ]
    },
    {
      "cell_type": "markdown",
      "metadata": {
        "id": "v-ObCWVv_YO-"
      },
      "source": [
        "## Custom nonconvex objectives\n",
        "\n",
        "In some cases, you may be trying to optimize for nonconvex objectives. Optimization in general is a very hard problem, so please be aware that you may have mixed results in that case. Convex problems, on the other hand, are well understood and can be solved with nice theoretical guarantees.\n",
        "\n",
        "PyPortfolioOpt does offer some functionality for nonconvex optimization, but it is not really encouraged. In particular, nonconvex optimization is not compatible with PyPortfolioOpt's modular constraints API.\n",
        "\n",
        "As an example, we will use the Deviation Risk Parity objective from Kolm et al (2014). Because we are not using a convex solver, we don't have to define it using `cvxpy` functions."
      ]
    },
    {
      "cell_type": "code",
      "execution_count": null,
      "metadata": {
        "id": "WYIshUU__YO-"
      },
      "outputs": [],
      "source": [
        "def deviation_risk_parity(w, cov_matrix):\n",
        "    diff = w * np.dot(cov_matrix, w) - (w * np.dot(cov_matrix, w)).reshape(-1, 1)\n",
        "    return (diff ** 2).sum().sum()"
      ]
    },
    {
      "cell_type": "code",
      "execution_count": null,
      "metadata": {
        "colab": {
          "base_uri": "https://localhost:8080/"
        },
        "id": "_fgoI8gj_YO-",
        "outputId": "a3f3c341-503e-4b7a-ef96-8bdf462c6d8a"
      },
      "outputs": [
        {
          "data": {
            "text/plain": [
              "OrderedDict([('AAPL', 0.04227),\n",
              "             ('AMD', 0.03306),\n",
              "             ('BAC', 0.04204),\n",
              "             ('BLK', 0.08771),\n",
              "             ('CVS', 0.0706),\n",
              "             ('DIS', 0.0552),\n",
              "             ('INTU', 0.06376),\n",
              "             ('JD', 0.10104),\n",
              "             ('MA', 0.09691),\n",
              "             ('NVDA', 0.04684),\n",
              "             ('PBI', 0.05062),\n",
              "             ('TGT', 0.0585),\n",
              "             ('TM', 0.08268),\n",
              "             ('UL', 0.09063),\n",
              "             ('WMT', 0.07813)])"
            ]
          },
          "execution_count": 22,
          "metadata": {},
          "output_type": "execute_result"
        }
      ],
      "source": [
        "ef = EfficientFrontier(mu, S, weight_bounds=(0.01, 0.12))\n",
        "ef.nonconvex_objective(deviation_risk_parity, ef.cov_matrix)\n",
        "weights = ef.clean_weights()\n",
        "weights"
      ]
    },
    {
      "cell_type": "markdown",
      "metadata": {
        "id": "1JJVTSOb_YO_"
      },
      "source": [
        "However, let's say we now want to enforce that JD has a weight of 10%. In the convex case, this would be as simple as:\n",
        "\n",
        "```python\n",
        "ef.add_objective(lambda w: w[jd_index] == 0.10)\n",
        "```\n",
        "\n",
        "But unfortunately, scipy does not allow for such intuitive syntax. You will need to rearrange your constraints to make them either `=0` or `<= 0`.\n",
        "\n",
        "```python\n",
        "constraints = [\n",
        "    # First constraint\n",
        "     {\"type\": \"eq\",  # equality constraint,\n",
        "      \"fun\": lambda w: w[1] - 0.2},  # the equality functions are assumed to = 0\n",
        "      \n",
        "    # Second constraint\n",
        "    {\"type\": \"ineq\",  # inequality constraint\n",
        "     \"fun\": lambda w: w[0] - 0.5}   # inequality functions <= 0\n",
        "]\n",
        "```\n",
        "\n",
        "For more information, you can consult the [scipy docs](https://docs.scipy.org/doc/scipy/reference/generated/scipy.optimize.minimize.html), but they aren't very helpful."
      ]
    },
    {
      "cell_type": "code",
      "execution_count": null,
      "metadata": {
        "colab": {
          "base_uri": "https://localhost:8080/"
        },
        "id": "84sElIfw_YO_",
        "outputId": "f4e9713d-2215-4093-9900-17a2035c5906"
      },
      "outputs": [
        {
          "data": {
            "text/plain": [
              "OrderedDict([('AAPL', 0.05695),\n",
              "             ('AMD', 0.0304),\n",
              "             ('BAC', 0.05892),\n",
              "             ('BLK', 0.07322),\n",
              "             ('CVS', 0.06945),\n",
              "             ('DIS', 0.0644),\n",
              "             ('INTU', 0.06689),\n",
              "             ('JD', 0.1),\n",
              "             ('MA', 0.07491),\n",
              "             ('NVDA', 0.05933),\n",
              "             ('PBI', 0.06263),\n",
              "             ('TGT', 0.06564),\n",
              "             ('TM', 0.07206),\n",
              "             ('UL', 0.07388),\n",
              "             ('WMT', 0.07132)])"
            ]
          },
          "execution_count": 23,
          "metadata": {},
          "output_type": "execute_result"
        }
      ],
      "source": [
        "ef = EfficientFrontier(mu, S, weight_bounds=(0.01, 0.12))\n",
        "\n",
        "ef.nonconvex_objective(\n",
        "    deviation_risk_parity,\n",
        "    objective_args=S,\n",
        "    weights_sum_to_one=True,\n",
        "    constraints=[\n",
        "        {\"type\": \"eq\", \"fun\": lambda w: w[jd_index] - 0.10},\n",
        "    ],\n",
        ")\n",
        "\n",
        "weights = ef.clean_weights()\n",
        "weights"
      ]
    },
    {
      "cell_type": "markdown",
      "metadata": {
        "id": "0SoIPcj2_YO_"
      },
      "source": [
        "## More examples of nonconvex objectives\n",
        "\n",
        "The scipy format is not intuitive and is hard to explain, so here are a bunch of examples (adapted from the tests). Some of these are actually convex, so you should use `convex_objective` instead."
      ]
    },
    {
      "cell_type": "code",
      "execution_count": null,
      "metadata": {
        "colab": {
          "base_uri": "https://localhost:8080/"
        },
        "id": "vfzCiKQT_YO_",
        "outputId": "a6413d3f-22d7-4406-9904-c480be20bd53"
      },
      "outputs": [
        {
          "data": {
            "text/plain": [
              "OrderedDict([('AAPL', 0.04699),\n",
              "             ('AMD', 0.03341),\n",
              "             ('BAC', 0.04672),\n",
              "             ('BLK', 0.07872),\n",
              "             ('CVS', 0.06334),\n",
              "             ('DIS', 0.05386),\n",
              "             ('INTU', 0.05806),\n",
              "             ('JD', 0.13128),\n",
              "             ('MA', 0.10312),\n",
              "             ('NVDA', 0.04802),\n",
              "             ('PBI', 0.05095),\n",
              "             ('TGT', 0.05554),\n",
              "             ('TM', 0.07354),\n",
              "             ('UL', 0.08566),\n",
              "             ('WMT', 0.07079)])"
            ]
          },
          "execution_count": 24,
          "metadata": {},
          "output_type": "execute_result"
        }
      ],
      "source": [
        "# Another example of deviation risk parity\n",
        "def deviation_risk_parity(w, cov_matrix):\n",
        "    n = cov_matrix.shape[0]\n",
        "    rp = (w * (cov_matrix @ w)) / cp.quad_form(w, cov_matrix)\n",
        "    return cp.sum_squares(rp - 1 / n).value\n",
        "\n",
        "ef = EfficientFrontier(mu, S)\n",
        "ef.nonconvex_objective(deviation_risk_parity, ef.cov_matrix)\n",
        "weights = ef.clean_weights()\n",
        "weights"
      ]
    },
    {
      "cell_type": "code",
      "execution_count": null,
      "metadata": {
        "colab": {
          "base_uri": "https://localhost:8080/"
        },
        "id": "P2jqcyK7_YO_",
        "outputId": "59979140-7fd0-41cc-fb52-8b12586b2066"
      },
      "outputs": [
        {
          "data": {
            "text/plain": [
              "OrderedDict([('AAPL', 0.1),\n",
              "             ('AMD', 0.0339),\n",
              "             ('BAC', 0.04866),\n",
              "             ('BLK', 0.07516),\n",
              "             ('CVS', 0.06205),\n",
              "             ('DIS', 0.05424),\n",
              "             ('INTU', 0.05646),\n",
              "             ('JD', 0.11054),\n",
              "             ('MA', 0.09092),\n",
              "             ('NVDA', 0.049),\n",
              "             ('PBI', 0.05258),\n",
              "             ('TGT', 0.05526),\n",
              "             ('TM', 0.06836),\n",
              "             ('UL', 0.0771),\n",
              "             ('WMT', 0.06577)])"
            ]
          },
          "execution_count": 25,
          "metadata": {},
          "output_type": "execute_result"
        }
      ],
      "source": [
        "# Deviation risk parity with weight bound on the first asset\n",
        "ef = EfficientFrontier(mu, S)\n",
        "ef.nonconvex_objective(deviation_risk_parity,\n",
        "                       ef.cov_matrix,\n",
        "                       constraints=[{\"type\":\"eq\", \"fun\":lambda w: w[0] - 0.1}])\n",
        "weights = ef.clean_weights()\n",
        "weights"
      ]
    },
    {
      "cell_type": "code",
      "execution_count": null,
      "metadata": {
        "colab": {
          "base_uri": "https://localhost:8080/"
        },
        "id": "voar0fB2_YPA",
        "outputId": "2721f2ad-7b9f-4a8a-967a-48921b88e853"
      },
      "outputs": [
        {
          "data": {
            "text/plain": [
              "OrderedDict([('AAPL', 0.09422),\n",
              "             ('AMD', 0.1627),\n",
              "             ('BAC', 0.04346),\n",
              "             ('BLK', -0.04221),\n",
              "             ('CVS', -0.1778),\n",
              "             ('DIS', 0.20785),\n",
              "             ('INTU', 0.1059),\n",
              "             ('JD', 0.31068),\n",
              "             ('MA', 0.37613),\n",
              "             ('NVDA', 0.41065),\n",
              "             ('PBI', -0.02656),\n",
              "             ('TGT', 0.01202),\n",
              "             ('TM', -0.47356),\n",
              "             ('UL', -0.83251),\n",
              "             ('WMT', -0.17096)])"
            ]
          },
          "execution_count": 26,
          "metadata": {},
          "output_type": "execute_result"
        }
      ],
      "source": [
        "# Market-neutral efficient risk.\n",
        "# Please use ef.efficient_risk() for anything serious.\n",
        "target_risk = 0.19\n",
        "ef = EfficientFrontier(mu, S, weight_bounds=(None, None))\n",
        "\n",
        "# Weights sum to zero\n",
        "weight_constr = {\"type\": \"eq\", \"fun\": lambda w: np.sum(w)}\n",
        "\n",
        "# Portfolio vol less than target vol\n",
        "risk_constr = {\n",
        "    \"type\": \"eq\",\n",
        "    \"fun\": lambda w: target_risk ** 2 - np.dot(w.T, np.dot(ef.cov_matrix, w)),\n",
        "}\n",
        "constraints = [weight_constr, risk_constr]\n",
        "\n",
        "ef.nonconvex_objective(\n",
        "    lambda w, mu: -w.T.dot(mu),  # min negative return i.e max return\n",
        "    objective_args=(ef.expected_returns),\n",
        "    weights_sum_to_one=False,\n",
        "    constraints=constraints,\n",
        ")\n",
        "weights = ef.clean_weights()\n",
        "weights"
      ]
    },
    {
      "cell_type": "code",
      "execution_count": null,
      "metadata": {
        "colab": {
          "base_uri": "https://localhost:8080/"
        },
        "id": "2kgcF-V9_YPH",
        "outputId": "862dc21d-2005-438b-eb0d-3ebe2d7e0222"
      },
      "outputs": [
        {
          "data": {
            "text/plain": [
              "OrderedDict([('AAPL', 0.0),\n",
              "             ('AMD', 0.05561),\n",
              "             ('BAC', 0.0),\n",
              "             ('BLK', 0.0),\n",
              "             ('CVS', 0.0),\n",
              "             ('DIS', 0.0),\n",
              "             ('INTU', 0.0),\n",
              "             ('JD', 0.0),\n",
              "             ('MA', 0.0),\n",
              "             ('NVDA', 0.94439),\n",
              "             ('PBI', 0.0),\n",
              "             ('TGT', 0.0),\n",
              "             ('TM', 0.0),\n",
              "             ('UL', 0.0),\n",
              "             ('WMT', 0.0)])"
            ]
          },
          "execution_count": 27,
          "metadata": {},
          "output_type": "execute_result"
        }
      ],
      "source": [
        "# Utility objective - you could actually use ef.max_quadratic_utility\n",
        "ef = EfficientFrontier(mu, S)\n",
        "\n",
        "def utility_obj(weights, mu, cov_matrix, k=1):\n",
        "    return -weights.dot(mu) + k * np.dot(weights.T, np.dot(cov_matrix, weights))\n",
        "\n",
        "ef.nonconvex_objective(\n",
        "    utility_obj,\n",
        "    objective_args=(ef.expected_returns, ef.cov_matrix, 1)\n",
        "    # default is for weights to sum to 1\n",
        ")\n",
        "\n",
        "weights = ef.clean_weights()\n",
        "weights"
      ]
    },
    {
      "cell_type": "code",
      "execution_count": null,
      "metadata": {
        "colab": {
          "base_uri": "https://localhost:8080/"
        },
        "id": "LnNkM5DJ_YPH",
        "outputId": "874299e2-37a8-4783-9f8e-7608ff293837"
      },
      "outputs": [
        {
          "data": {
            "text/plain": [
              "np.float64(1.0)"
            ]
          },
          "execution_count": 28,
          "metadata": {},
          "output_type": "execute_result"
        }
      ],
      "source": [
        "ef.weights.sum()"
      ]
    },
    {
      "cell_type": "code",
      "execution_count": null,
      "metadata": {
        "colab": {
          "base_uri": "https://localhost:8080/"
        },
        "id": "FSFhcUz7_YPH",
        "outputId": "0a086117-7335-4558-aaee-c7c70c295f90"
      },
      "outputs": [
        {
          "data": {
            "text/plain": [
              "OrderedDict([('AAPL', 0.06667),\n",
              "             ('AMD', 0.06667),\n",
              "             ('BAC', 0.06667),\n",
              "             ('BLK', 0.06667),\n",
              "             ('CVS', 0.06667),\n",
              "             ('DIS', 0.06667),\n",
              "             ('INTU', 0.06667),\n",
              "             ('JD', 0.06667),\n",
              "             ('MA', 0.06667),\n",
              "             ('NVDA', 0.06667),\n",
              "             ('PBI', 0.06667),\n",
              "             ('TGT', 0.06667),\n",
              "             ('TM', 0.06667),\n",
              "             ('UL', 0.06667),\n",
              "             ('WMT', 0.06667)])"
            ]
          },
          "execution_count": 29,
          "metadata": {},
          "output_type": "execute_result"
        }
      ],
      "source": [
        "# Kelly objective with weight bounds on zeroth asset\n",
        "def kelly_objective(w, e_returns, cov_matrix, k=3):\n",
        "    variance = np.dot(w.T, np.dot(cov_matrix, w))\n",
        "    objective = variance * 0.5 * k - np.dot(w, e_returns)\n",
        "    return objective\n",
        "\n",
        "lower_bounds, upper_bounds = 0.01, 0.3\n",
        "ef = EfficientFrontier(mu, S)\n",
        "ef.nonconvex_objective(\n",
        "    kelly_objective,\n",
        "    objective_args=(ef.expected_returns, ef.cov_matrix, 1000),\n",
        "    constraints=[\n",
        "        {\"type\": \"eq\", \"fun\": lambda w: np.sum(w) - 1},\n",
        "        {\"type\": \"ineq\", \"fun\": lambda w: w[0] - lower_bounds},\n",
        "        {\"type\": \"ineq\", \"fun\": lambda w: upper_bounds - w[0]},\n",
        "    ],\n",
        ")\n",
        "\n",
        "weights = ef.clean_weights()\n",
        "weights"
      ]
    }
  ],
  "metadata": {
    "colab": {
      "name": "3-Advanced-Mean-Variance-Optimisation.ipynb",
      "provenance": [],
      "toc_visible": true,
      "include_colab_link": true
    },
    "kernelspec": {
      "display_name": "Python 3",
      "name": "python3"
    },
    "language_info": {
      "codemirror_mode": {
        "name": "ipython",
        "version": 3
      },
      "file_extension": ".py",
      "mimetype": "text/x-python",
      "name": "python",
      "nbconvert_exporter": "python",
      "pygments_lexer": "ipython3",
      "version": "3.12.4"
    }
  },
  "nbformat": 4,
  "nbformat_minor": 0
}